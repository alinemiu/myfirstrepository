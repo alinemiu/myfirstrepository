{
 "cells": [
  {
   "cell_type": "markdown",
   "id": "df0447df-68ff-4ad1-a672-b87d4fe8533e",
   "metadata": {},
   "source": [
    "# Data Science Tools and Ecosystem\n"
   ]
  },
  {
   "cell_type": "markdown",
   "id": "3ff39151-717a-44ca-9993-c557a36d5763",
   "metadata": {},
   "source": [
    "In this notebook, Data Science Tools and Ecosystem are summarized."
   ]
  },
  {
   "cell_type": "markdown",
   "id": "d7d23ffb-b070-4c4f-8a4e-6a3d76fd40f5",
   "metadata": {},
   "source": [
    "**Objectives:**"
   ]
  },
  {
   "cell_type": "markdown",
   "id": "b4fe624a-cab1-4787-9179-91df544d70e8",
   "metadata": {},
   "source": [
    "- Python\n",
    "- R \n",
    "- Java\n",
    "- C/C+\n",
    "- Tensorflow\n",
    "- Numphy\n",
    "- SciPy\n",
    "- Pandas\n",
    "- Apache Sparks\n",
    "- Jupiter Notebooks\n",
    "- R studio\n",
    "- Etc"
   ]
  },
  {
   "cell_type": "markdown",
   "id": "e9193a51-cb1a-4ec4-8051-f4f3e025e686",
   "metadata": {},
   "source": [
    "Some of the popular languages that Data Scientists use are:"
   ]
  },
  {
   "cell_type": "markdown",
   "id": "557448b9-cb99-4879-a411-adfab8d0c39e",
   "metadata": {},
   "source": [
    "1. Python\n",
    "2. R \n",
    "3. Java\n",
    "4. C/C+"
   ]
  },
  {
   "cell_type": "markdown",
   "id": "f3ab5d5c-bb5c-4e1a-aaa2-7a6326ba463c",
   "metadata": {},
   "source": [
    "Some of the commonly used libraries used by Data Scientists include:"
   ]
  },
  {
   "cell_type": "markdown",
   "id": "a750b32b-483a-4b64-b18d-cc4b37d8ca78",
   "metadata": {},
   "source": [
    "1. Tensorflow\n",
    "2. Numphy\n",
    "3. SciPy\n",
    "4. Pandas\n",
    "5. Etc"
   ]
  },
  {
   "cell_type": "markdown",
   "id": "2c5fcfd3-4d45-491a-b49d-20143f62dfc7",
   "metadata": {},
   "source": [
    "| Data Science Tools |\n",
    "|--------------------|\n",
    "| Apache Sparks |\n",
    "| Jupiter Notebooks |\n",
    "| R studio |"
   ]
  },
  {
   "cell_type": "markdown",
   "id": "3a5aca02-84c4-4a87-891b-1d7b647f8af5",
   "metadata": {},
   "source": [
    "### Below are a few examples of evaluating arithmetic expressions in Python"
   ]
  },
  {
   "cell_type": "markdown",
   "id": "b16412d2-e65f-4479-9782-04ac8e233a4f",
   "metadata": {},
   "source": [
    "5+2, 3x2, 4/2\n"
   ]
  },
  {
   "cell_type": "markdown",
   "id": "2cbc514d-eecf-48fc-8200-24c492018283",
   "metadata": {},
   "source": [
    "This a simple arithmetic expression to mutiply then add integers"
   ]
  },
  {
   "cell_type": "code",
   "execution_count": 3,
   "id": "d38ea4d3-801e-4e95-9797-8ebce2250a10",
   "metadata": {},
   "outputs": [
    {
     "data": {
      "text/plain": [
       "17"
      ]
     },
     "execution_count": 3,
     "metadata": {},
     "output_type": "execute_result"
    }
   ],
   "source": [
    "(3*4)+5"
   ]
  },
  {
   "cell_type": "markdown",
   "id": "2159233c-3bee-44ac-b84b-5f082a30a003",
   "metadata": {},
   "source": [
    " This will convert 200 minutes to hours by diving by 60"
   ]
  },
  {
   "cell_type": "code",
   "execution_count": 4,
   "id": "3712db86-0f64-41a4-8a2b-3286a58038db",
   "metadata": {},
   "outputs": [
    {
     "data": {
      "text/plain": [
       "3.3333333333333335"
      ]
     },
     "execution_count": 4,
     "metadata": {},
     "output_type": "execute_result"
    }
   ],
   "source": [
    "200/60"
   ]
  },
  {
   "cell_type": "markdown",
   "id": "e8562a90-c351-42cb-b3ff-8f5f2f95e56b",
   "metadata": {},
   "source": [
    "## Author"
   ]
  },
  {
   "cell_type": "markdown",
   "id": "671f1f27-38a3-4d26-a442-b4bdfdcb0d40",
   "metadata": {},
   "source": [
    "Aline"
   ]
  },
  {
   "cell_type": "code",
   "execution_count": null,
   "id": "362df773-248c-4c42-bf89-8cbf50bb5b78",
   "metadata": {},
   "outputs": [],
   "source": []
  }
 ],
 "metadata": {
  "kernelspec": {
   "display_name": "Python 3 (ipykernel)",
   "language": "python",
   "name": "python3"
  },
  "language_info": {
   "codemirror_mode": {
    "name": "ipython",
    "version": 3
   },
   "file_extension": ".py",
   "mimetype": "text/x-python",
   "name": "python",
   "nbconvert_exporter": "python",
   "pygments_lexer": "ipython3",
   "version": "3.12.8"
  }
 },
 "nbformat": 4,
 "nbformat_minor": 5
}
